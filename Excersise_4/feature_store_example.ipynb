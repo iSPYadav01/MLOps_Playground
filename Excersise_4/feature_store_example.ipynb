{
 "cells": [
  {
   "cell_type": "markdown",
   "metadata": {},
   "source": [
    "## Setup:\n",
    "\n",
    "1. Activate your conda environment and install library\n",
    "```\n",
    "pip install feast\n",
    "\n",
    "```\n",
    "\n",
    "2. Initialize feature repository in your location of choice and enter that folder\n",
    "```\n",
    "feast init my_feature_repo\n",
    "cd my_feature_repo/feature_repo\n",
    "```\n",
    "\n",
    "3. Register the created feature store\n",
    "```\n",
    "feast apply\n",
    "```\n",
    "\n",
    "4. Spin up the ui interaction with the feature store which would be in http://127.0.0.1:8000/ after running the following command:\n",
    "```\n",
    "feast ui --host 127.0.0.1 --port 8000\n",
    "```\n",
    "\n",
    "Note: The UI is a beta feature and may be unpredictable. It's just an additional feature and should not affect the programmatic use of feature store"
   ]
  },
  {
   "cell_type": "markdown",
   "metadata": {},
   "source": [
    "### If not already present, create a feature_store.yaml file in the feature store directory i.e (my_feature_repo/feature_repo directory) and paste the following content:\n",
    "\n",
    "```\n",
    "project: my_feature_repo\n",
    "registry: data/registry.db\n",
    "provider: local\n",
    "online_store:\n",
    "    path: data/online_store.db\n",
    "entity_key_serialization_version: 2\n",
    "auth:\n",
    "    type: no_auth\n",
    "```"
   ]
  },
  {
   "cell_type": "markdown",
   "metadata": {},
   "source": [
    "## Build a dataset"
   ]
  },
  {
   "cell_type": "code",
   "execution_count": 1,
   "metadata": {},
   "outputs": [
    {
     "name": "stdout",
     "output_type": "stream",
     "text": [
      "   driver_id           event_timestamp  conv_rate  acc_rate  avg_daily_trips\n",
      "0       1001 2021-04-12 10:59:42+00:00   0.214388  0.647115              384\n",
      "1       1002 2021-04-12 08:12:10+00:00   0.017890  0.339864              122\n",
      "2       1003 2021-04-12 16:40:26+00:00   0.646316  0.964426              880\n",
      "3       1004 2021-04-12 15:01:12+00:00   0.793783  0.428244              689\n"
     ]
    }
   ],
   "source": [
    "from feast import FeatureStore\n",
    "import pandas as pd\n",
    "from datetime import datetime\n",
    "\n",
    "entity_df = pd.DataFrame.from_dict({\n",
    "    \"driver_id\": [1001, 1002, 1003, 1004],\n",
    "    \"event_timestamp\": [\n",
    "        datetime(2021, 4, 12, 10, 59, 42),\n",
    "        datetime(2021, 4, 12, 8,  12, 10),\n",
    "        datetime(2021, 4, 12, 16, 40, 26),\n",
    "        datetime(2021, 4, 12, 15, 1 , 12)\n",
    "    ]\n",
    "})\n",
    "\n",
    "store = FeatureStore(repo_path=\"./my_feature_repo/feature_repo/\") #replace this relative path with the right one if needed\n",
    "\n",
    "training_df = store.get_historical_features(\n",
    "    entity_df=entity_df,\n",
    "    features = [\n",
    "        'driver_hourly_stats:conv_rate',\n",
    "        'driver_hourly_stats:acc_rate',\n",
    "        'driver_hourly_stats:avg_daily_trips'\n",
    "    ],\n",
    ").to_df()\n",
    "\n",
    "print(training_df.head())\n"
   ]
  },
  {
   "cell_type": "markdown",
   "metadata": {},
   "source": [
    "## Load feature values into store\n",
    "### By running the following command from feature repository folder using command line / terminal\n",
    "\n",
    "```\n",
    "feast materialize-incremental $(date -u +\"%Y-%m-%dT%H:%M:%S\")\n",
    "```\n",
    "\n",
    "You should get a successful views materialized message\n",
    "\n",
    "If there are no problems with the feast ui (where problems are common), you will see these materialized views under Feature Views on the app ui"
   ]
  },
  {
   "cell_type": "markdown",
   "metadata": {},
   "source": [
    "## Now read the features from feature store at low latency"
   ]
  },
  {
   "cell_type": "code",
   "execution_count": 2,
   "metadata": {},
   "outputs": [
    {
     "name": "stderr",
     "output_type": "stream",
     "text": [
      "WARNING:root:Cannot use sqlite_vec for vector search\n"
     ]
    },
    {
     "name": "stdout",
     "output_type": "stream",
     "text": [
      "{'acc_rate': [0.8833363652229309],\n",
      " 'avg_daily_trips': [281],\n",
      " 'conv_rate': [0.6451407074928284],\n",
      " 'driver_id': [1001]}\n"
     ]
    }
   ],
   "source": [
    "from pprint import pprint\n",
    "from feast import FeatureStore\n",
    "\n",
    "store = FeatureStore(repo_path=\"./my_feature_repo/feature_repo/\") #replace this relative path with the right one if needed\n",
    "\n",
    "feature_vector = store.get_online_features(\n",
    "    features=[\n",
    "        'driver_hourly_stats:conv_rate',\n",
    "        'driver_hourly_stats:acc_rate',\n",
    "        'driver_hourly_stats:avg_daily_trips'\n",
    "    ],\n",
    "    entity_rows=[{\"driver_id\": 1001}]\n",
    ").to_dict()\n",
    "\n",
    "pprint(feature_vector)"
   ]
  }
 ],
 "metadata": {
  "kernelspec": {
   "display_name": "Python 3.10.15 ('mlops')",
   "language": "python",
   "name": "python3"
  },
  "language_info": {
   "codemirror_mode": {
    "name": "ipython",
    "version": 3
   },
   "file_extension": ".py",
   "mimetype": "text/x-python",
   "name": "python",
   "nbconvert_exporter": "python",
   "pygments_lexer": "ipython3",
   "version": "3.10.15"
  },
  "orig_nbformat": 4,
  "vscode": {
   "interpreter": {
    "hash": "7385ad4985ae55e0a4657b8c1e4f8ecb2be8e605400bf68d86bd16c69e9b35d1"
   }
  }
 },
 "nbformat": 4,
 "nbformat_minor": 2
}
